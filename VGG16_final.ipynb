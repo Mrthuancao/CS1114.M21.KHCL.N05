{
  "nbformat": 4,
  "nbformat_minor": 0,
  "metadata": {
    "colab": {
      "name": "VGG16_final",
      "provenance": [],
      "collapsed_sections": [
        "Qf8lb4CIDoMg"
      ],
      "include_colab_link": true
    },
    "kernelspec": {
      "name": "python3",
      "display_name": "Python 3"
    },
    "language_info": {
      "name": "python"
    },
    "gpuClass": "standard",
    "accelerator": "GPU"
  },
  "cells": [
    {
      "cell_type": "markdown",
      "metadata": {
        "id": "view-in-github",
        "colab_type": "text"
      },
      "source": [
        "<a href=\"https://colab.research.google.com/github/Mrthuancao/CS114.M21.KHCL.N05/blob/main/VGG16_final.ipynb\" target=\"_parent\"><img src=\"https://colab.research.google.com/assets/colab-badge.svg\" alt=\"Open In Colab\"/></a>"
      ]
    },
    {
      "cell_type": "code",
      "source": [
        "from google.colab import drive\n",
        "drive.mount('/content/drive')\n"
      ],
      "metadata": {
        "colab": {
          "base_uri": "https://localhost:8080/",
          "height": 328
        },
        "id": "g_QTIBeGN2cP",
        "outputId": "554a694c-84ae-47ec-e8f8-cbd2a6d9834e"
      },
      "execution_count": null,
      "outputs": [
        {
          "output_type": "error",
          "ename": "MessageError",
          "evalue": "ignored",
          "traceback": [
            "\u001b[0;31m---------------------------------------------------------------------------\u001b[0m",
            "\u001b[0;31mMessageError\u001b[0m                              Traceback (most recent call last)",
            "\u001b[0;32m<ipython-input-1-d5df0069828e>\u001b[0m in \u001b[0;36m<module>\u001b[0;34m()\u001b[0m\n\u001b[1;32m      1\u001b[0m \u001b[0;32mfrom\u001b[0m \u001b[0mgoogle\u001b[0m\u001b[0;34m.\u001b[0m\u001b[0mcolab\u001b[0m \u001b[0;32mimport\u001b[0m \u001b[0mdrive\u001b[0m\u001b[0;34m\u001b[0m\u001b[0;34m\u001b[0m\u001b[0m\n\u001b[0;32m----> 2\u001b[0;31m \u001b[0mdrive\u001b[0m\u001b[0;34m.\u001b[0m\u001b[0mmount\u001b[0m\u001b[0;34m(\u001b[0m\u001b[0;34m'/content/drive'\u001b[0m\u001b[0;34m)\u001b[0m\u001b[0;34m\u001b[0m\u001b[0;34m\u001b[0m\u001b[0m\n\u001b[0m",
            "\u001b[0;32m/usr/local/lib/python3.7/dist-packages/google/colab/drive.py\u001b[0m in \u001b[0;36mmount\u001b[0;34m(mountpoint, force_remount, timeout_ms)\u001b[0m\n\u001b[1;32m    107\u001b[0m       \u001b[0mforce_remount\u001b[0m\u001b[0;34m=\u001b[0m\u001b[0mforce_remount\u001b[0m\u001b[0;34m,\u001b[0m\u001b[0;34m\u001b[0m\u001b[0;34m\u001b[0m\u001b[0m\n\u001b[1;32m    108\u001b[0m       \u001b[0mtimeout_ms\u001b[0m\u001b[0;34m=\u001b[0m\u001b[0mtimeout_ms\u001b[0m\u001b[0;34m,\u001b[0m\u001b[0;34m\u001b[0m\u001b[0;34m\u001b[0m\u001b[0m\n\u001b[0;32m--> 109\u001b[0;31m       ephemeral=True)\n\u001b[0m\u001b[1;32m    110\u001b[0m \u001b[0;34m\u001b[0m\u001b[0m\n\u001b[1;32m    111\u001b[0m \u001b[0;34m\u001b[0m\u001b[0m\n",
            "\u001b[0;32m/usr/local/lib/python3.7/dist-packages/google/colab/drive.py\u001b[0m in \u001b[0;36m_mount\u001b[0;34m(mountpoint, force_remount, timeout_ms, ephemeral)\u001b[0m\n\u001b[1;32m    122\u001b[0m   \u001b[0;32mif\u001b[0m \u001b[0mephemeral\u001b[0m\u001b[0;34m:\u001b[0m\u001b[0;34m\u001b[0m\u001b[0;34m\u001b[0m\u001b[0m\n\u001b[1;32m    123\u001b[0m     _message.blocking_request(\n\u001b[0;32m--> 124\u001b[0;31m         'request_auth', request={'authType': 'dfs_ephemeral'}, timeout_sec=None)\n\u001b[0m\u001b[1;32m    125\u001b[0m \u001b[0;34m\u001b[0m\u001b[0m\n\u001b[1;32m    126\u001b[0m   \u001b[0mmountpoint\u001b[0m \u001b[0;34m=\u001b[0m \u001b[0m_os\u001b[0m\u001b[0;34m.\u001b[0m\u001b[0mpath\u001b[0m\u001b[0;34m.\u001b[0m\u001b[0mexpanduser\u001b[0m\u001b[0;34m(\u001b[0m\u001b[0mmountpoint\u001b[0m\u001b[0;34m)\u001b[0m\u001b[0;34m\u001b[0m\u001b[0;34m\u001b[0m\u001b[0m\n",
            "\u001b[0;32m/usr/local/lib/python3.7/dist-packages/google/colab/_message.py\u001b[0m in \u001b[0;36mblocking_request\u001b[0;34m(request_type, request, timeout_sec, parent)\u001b[0m\n\u001b[1;32m    173\u001b[0m   request_id = send_request(\n\u001b[1;32m    174\u001b[0m       request_type, request, parent=parent, expect_reply=True)\n\u001b[0;32m--> 175\u001b[0;31m   \u001b[0;32mreturn\u001b[0m \u001b[0mread_reply_from_input\u001b[0m\u001b[0;34m(\u001b[0m\u001b[0mrequest_id\u001b[0m\u001b[0;34m,\u001b[0m \u001b[0mtimeout_sec\u001b[0m\u001b[0;34m)\u001b[0m\u001b[0;34m\u001b[0m\u001b[0;34m\u001b[0m\u001b[0m\n\u001b[0m",
            "\u001b[0;32m/usr/local/lib/python3.7/dist-packages/google/colab/_message.py\u001b[0m in \u001b[0;36mread_reply_from_input\u001b[0;34m(message_id, timeout_sec)\u001b[0m\n\u001b[1;32m    104\u001b[0m         reply.get('colab_msg_id') == message_id):\n\u001b[1;32m    105\u001b[0m       \u001b[0;32mif\u001b[0m \u001b[0;34m'error'\u001b[0m \u001b[0;32min\u001b[0m \u001b[0mreply\u001b[0m\u001b[0;34m:\u001b[0m\u001b[0;34m\u001b[0m\u001b[0;34m\u001b[0m\u001b[0m\n\u001b[0;32m--> 106\u001b[0;31m         \u001b[0;32mraise\u001b[0m \u001b[0mMessageError\u001b[0m\u001b[0;34m(\u001b[0m\u001b[0mreply\u001b[0m\u001b[0;34m[\u001b[0m\u001b[0;34m'error'\u001b[0m\u001b[0;34m]\u001b[0m\u001b[0;34m)\u001b[0m\u001b[0;34m\u001b[0m\u001b[0;34m\u001b[0m\u001b[0m\n\u001b[0m\u001b[1;32m    107\u001b[0m       \u001b[0;32mreturn\u001b[0m \u001b[0mreply\u001b[0m\u001b[0;34m.\u001b[0m\u001b[0mget\u001b[0m\u001b[0;34m(\u001b[0m\u001b[0;34m'data'\u001b[0m\u001b[0;34m,\u001b[0m \u001b[0;32mNone\u001b[0m\u001b[0;34m)\u001b[0m\u001b[0;34m\u001b[0m\u001b[0;34m\u001b[0m\u001b[0m\n\u001b[1;32m    108\u001b[0m \u001b[0;34m\u001b[0m\u001b[0m\n",
            "\u001b[0;31mMessageError\u001b[0m: Error: credential propagation was unsuccessful"
          ]
        }
      ]
    },
    {
      "cell_type": "markdown",
      "source": [
        "#**Thư viện**"
      ],
      "metadata": {
        "id": "Pd0X65e2Qbbc"
      }
    },
    {
      "cell_type": "code",
      "source": [
        "import tensorflow as tf\n",
        "from tensorflow import keras\n",
        "from tensorflow.keras import layers, models, utils\n",
        "import numpy as np\n",
        "import matplotlib.pyplot as plt\n",
        "import cv2\n",
        "import os\n",
        "import csv\n",
        "from tensorflow.keras.preprocessing.image import ImageDataGenerator\n",
        "from tensorflow.keras.applications.vgg16 import decode_predictions, preprocess_input"
      ],
      "metadata": {
        "id": "flfrMuqlOGPw"
      },
      "execution_count": null,
      "outputs": []
    },
    {
      "cell_type": "code",
      "source": [
        "pip install pyyaml h5py  # Required to save models in HDF5 format"
      ],
      "metadata": {
        "colab": {
          "base_uri": "https://localhost:8080/"
        },
        "id": "9mp-SngAJv_y",
        "outputId": "bc558413-03f0-4e56-decc-9d6cb0e97bf1"
      },
      "execution_count": null,
      "outputs": [
        {
          "output_type": "stream",
          "name": "stdout",
          "text": [
            "Looking in indexes: https://pypi.org/simple, https://us-python.pkg.dev/colab-wheels/public/simple/\n",
            "Requirement already satisfied: pyyaml in /usr/local/lib/python3.7/dist-packages (3.13)\n",
            "Requirement already satisfied: h5py in /usr/local/lib/python3.7/dist-packages (3.1.0)\n",
            "Requirement already satisfied: numpy>=1.14.5 in /usr/local/lib/python3.7/dist-packages (from h5py) (1.21.6)\n",
            "Requirement already satisfied: cached-property in /usr/local/lib/python3.7/dist-packages (from h5py) (1.5.2)\n"
          ]
        }
      ]
    },
    {
      "cell_type": "markdown",
      "source": [
        "#**Chuẩn bị data**"
      ],
      "metadata": {
        "id": "CAR3OkHHQwJ2"
      }
    },
    {
      "cell_type": "code",
      "source": [
        "Train_dir = '/content/drive/MyDrive/Máy_học_CS114/Data/Data_raw'"
      ],
      "metadata": {
        "id": "49DXqTJy5U0D"
      },
      "execution_count": null,
      "outputs": []
    },
    {
      "cell_type": "code",
      "source": [
        "CATEGORIES = ['CamDT', 'CanMongTay','ChamTayLenMat','ChongCam1Tay','ChongCam2Tay','NgoiGacChan','NgoiGu','NgoiThang','NguNguaRaSau','NguUpMat','VoDau','VuonVai']\n",
        "epochs=50\n",
        "batch_size = 32\n",
        "IMG_SIZE = 224"
      ],
      "metadata": {
        "id": "KveCDIUz-crR"
      },
      "execution_count": null,
      "outputs": []
    },
    {
      "cell_type": "code",
      "source": [
        "# idg = ImageDataGenerator(preprocessing_function = preprocess_input,validation_split=0.2)"
      ],
      "metadata": {
        "id": "SY11Dv_JCU_-"
      },
      "execution_count": null,
      "outputs": []
    },
    {
      "cell_type": "code",
      "source": [
        "# train_generator = idg.flow_from_directory('/content/drive/MyDrive/Máy_học_CS114/[Final]/[Data]/[Data_raw]',batch_size=(20),target_size=(224,224),subset=\"training\")\n",
        "# val_generator = idg.flow_from_directory('/content/drive/MyDrive/Máy_học_CS114/[Final]/[Data]/[Data_raw]',batch_size=(20),target_size=(224,224),subset=\"validation\")"
      ],
      "metadata": {
        "id": "HADGJRbQCChU"
      },
      "execution_count": null,
      "outputs": []
    },
    {
      "cell_type": "code",
      "source": [
        "train_ds = utils.image_dataset_from_directory(\n",
        "    Train_dir,\n",
        "    validation_split=0.2,\n",
        "    subset=\"training\",\n",
        "    seed=47,\n",
        "    image_size=(IMG_SIZE, IMG_SIZE),\n",
        "    batch_size=batch_size\n",
        ")\n",
        "\n",
        "val_ds = utils.image_dataset_from_directory(\n",
        "    Train_dir,\n",
        "    validation_split=0.2,\n",
        "    subset=\"validation\",\n",
        "    seed=47,\n",
        "    image_size=(IMG_SIZE, IMG_SIZE),\n",
        "    batch_size=batch_size\n",
        ")"
      ],
      "metadata": {
        "id": "SRjIqW-wm6AL",
        "colab": {
          "base_uri": "https://localhost:8080/"
        },
        "outputId": "d70ff269-a43f-4b8e-9101-30a4c34b4e25"
      },
      "execution_count": null,
      "outputs": [
        {
          "output_type": "stream",
          "name": "stdout",
          "text": [
            "Found 9181 files belonging to 12 classes.\n",
            "Using 7345 files for training.\n",
            "Found 9181 files belonging to 12 classes.\n",
            "Using 1836 files for validation.\n"
          ]
        }
      ]
    },
    {
      "cell_type": "markdown",
      "source": [
        "#**Load model VGG16**"
      ],
      "metadata": {
        "id": "t1jvkKI7QzgM"
      }
    },
    {
      "cell_type": "code",
      "source": [
        "from tensorflow.keras.applications import VGG16"
      ],
      "metadata": {
        "id": "TaJaOia6CkaJ"
      },
      "execution_count": null,
      "outputs": []
    },
    {
      "cell_type": "code",
      "source": [
        "IMG_SHAPE = (IMG_SIZE, IMG_SIZE, 3)\n",
        "model = VGG16(input_shape=IMG_SHAPE,\n",
        "              include_top=False,\n",
        "              weights='imagenet')\n",
        "model.trainable = False\n",
        "\n",
        "model.summary()\n",
        "#bỏ 3 lớp full connected cuối"
      ],
      "metadata": {
        "id": "pG9wpXX2DuB9",
        "colab": {
          "base_uri": "https://localhost:8080/"
        },
        "outputId": "c1ba6363-24c8-4fa8-a486-2e8dec051c3a"
      },
      "execution_count": null,
      "outputs": [
        {
          "output_type": "stream",
          "name": "stdout",
          "text": [
            "Downloading data from https://storage.googleapis.com/tensorflow/keras-applications/vgg16/vgg16_weights_tf_dim_ordering_tf_kernels_notop.h5\n",
            "58892288/58889256 [==============================] - 0s 0us/step\n",
            "58900480/58889256 [==============================] - 0s 0us/step\n",
            "Model: \"vgg16\"\n",
            "_________________________________________________________________\n",
            " Layer (type)                Output Shape              Param #   \n",
            "=================================================================\n",
            " input_1 (InputLayer)        [(None, 224, 224, 3)]     0         \n",
            "                                                                 \n",
            " block1_conv1 (Conv2D)       (None, 224, 224, 64)      1792      \n",
            "                                                                 \n",
            " block1_conv2 (Conv2D)       (None, 224, 224, 64)      36928     \n",
            "                                                                 \n",
            " block1_pool (MaxPooling2D)  (None, 112, 112, 64)      0         \n",
            "                                                                 \n",
            " block2_conv1 (Conv2D)       (None, 112, 112, 128)     73856     \n",
            "                                                                 \n",
            " block2_conv2 (Conv2D)       (None, 112, 112, 128)     147584    \n",
            "                                                                 \n",
            " block2_pool (MaxPooling2D)  (None, 56, 56, 128)       0         \n",
            "                                                                 \n",
            " block3_conv1 (Conv2D)       (None, 56, 56, 256)       295168    \n",
            "                                                                 \n",
            " block3_conv2 (Conv2D)       (None, 56, 56, 256)       590080    \n",
            "                                                                 \n",
            " block3_conv3 (Conv2D)       (None, 56, 56, 256)       590080    \n",
            "                                                                 \n",
            " block3_pool (MaxPooling2D)  (None, 28, 28, 256)       0         \n",
            "                                                                 \n",
            " block4_conv1 (Conv2D)       (None, 28, 28, 512)       1180160   \n",
            "                                                                 \n",
            " block4_conv2 (Conv2D)       (None, 28, 28, 512)       2359808   \n",
            "                                                                 \n",
            " block4_conv3 (Conv2D)       (None, 28, 28, 512)       2359808   \n",
            "                                                                 \n",
            " block4_pool (MaxPooling2D)  (None, 14, 14, 512)       0         \n",
            "                                                                 \n",
            " block5_conv1 (Conv2D)       (None, 14, 14, 512)       2359808   \n",
            "                                                                 \n",
            " block5_conv2 (Conv2D)       (None, 14, 14, 512)       2359808   \n",
            "                                                                 \n",
            " block5_conv3 (Conv2D)       (None, 14, 14, 512)       2359808   \n",
            "                                                                 \n",
            " block5_pool (MaxPooling2D)  (None, 7, 7, 512)         0         \n",
            "                                                                 \n",
            "=================================================================\n",
            "Total params: 14,714,688\n",
            "Trainable params: 0\n",
            "Non-trainable params: 14,714,688\n",
            "_________________________________________________________________\n"
          ]
        }
      ]
    },
    {
      "cell_type": "code",
      "source": [
        "#Thêm các lớp cuối thay cho 3 lớp đã bỏ\n",
        "model_final = keras.Sequential([\n",
        "    tf.keras.layers.InputLayer(input_shape=IMG_SHAPE),\n",
        "\n",
        "    layers.Rescaling(1./255),\n",
        "\n",
        "    model,\n",
        "    \n",
        "    layers.Flatten(),\n",
        "    layers.Dense(1024, activation='relu'),\n",
        "    layers.Dropout(0.5),\n",
        "    layers.Dense(512, activation='relu'),\n",
        "    layers.Dropout(0.5),\n",
        "    layers.Dense(12)\n",
        "])\n"
      ],
      "metadata": {
        "id": "rvA6Bt4JCcnM"
      },
      "execution_count": null,
      "outputs": []
    },
    {
      "cell_type": "code",
      "source": [
        "model_final.compile(\n",
        "    optimizer = keras.optimizers.Adam(learning_rate=0.001),\n",
        "    loss = keras.losses.SparseCategoricalCrossentropy(from_logits=True),\n",
        "    metrics = ['accuracy']\n",
        ")"
      ],
      "metadata": {
        "id": "cRF0_yF0DFJ-"
      },
      "execution_count": null,
      "outputs": []
    },
    {
      "cell_type": "code",
      "source": [
        "model_final.summary()"
      ],
      "metadata": {
        "colab": {
          "base_uri": "https://localhost:8080/"
        },
        "id": "lQqJ5lfGv8fS",
        "outputId": "818937e9-224e-4c34-e9ba-d5f138b65162"
      },
      "execution_count": null,
      "outputs": [
        {
          "output_type": "stream",
          "name": "stdout",
          "text": [
            "Model: \"sequential\"\n",
            "_________________________________________________________________\n",
            " Layer (type)                Output Shape              Param #   \n",
            "=================================================================\n",
            " rescaling (Rescaling)       (None, 224, 224, 3)       0         \n",
            "                                                                 \n",
            " vgg16 (Functional)          (None, 7, 7, 512)         14714688  \n",
            "                                                                 \n",
            " flatten (Flatten)           (None, 25088)             0         \n",
            "                                                                 \n",
            " dense (Dense)               (None, 1024)              25691136  \n",
            "                                                                 \n",
            " dropout (Dropout)           (None, 1024)              0         \n",
            "                                                                 \n",
            " dense_1 (Dense)             (None, 512)               524800    \n",
            "                                                                 \n",
            " dropout_1 (Dropout)         (None, 512)               0         \n",
            "                                                                 \n",
            " dense_2 (Dense)             (None, 12)                6156      \n",
            "                                                                 \n",
            "=================================================================\n",
            "Total params: 40,936,780\n",
            "Trainable params: 26,222,092\n",
            "Non-trainable params: 14,714,688\n",
            "_________________________________________________________________\n"
          ]
        }
      ]
    },
    {
      "cell_type": "code",
      "source": [
        "model_earlyStopping = tf.keras.callbacks.EarlyStopping(\n",
        "    min_delta=1e-3,\n",
        "    patience=6,\n",
        "    verbose=1,\n",
        "    restore_best_weights=True\n",
        ")"
      ],
      "metadata": {
        "id": "2Xj_ddxjjgaS"
      },
      "execution_count": null,
      "outputs": []
    },
    {
      "cell_type": "code",
      "source": [
        "%cd /content/drive/MyDrive/Máy_học_CS114/[Final]/[Model_checkpoint_VGG16]"
      ],
      "metadata": {
        "colab": {
          "base_uri": "https://localhost:8080/"
        },
        "id": "_UsMh8QR8yOL",
        "outputId": "42a2f2ad-17ea-4812-8222-7804095e6238"
      },
      "execution_count": null,
      "outputs": [
        {
          "output_type": "stream",
          "name": "stdout",
          "text": [
            "/content/drive/.shortcut-targets-by-id/1fYE__4j73SJFB2gWgW2nQ-jH9LWvNF_W/Máy_học_CS114/[Final]/[Model_checkpoint_VGG16]\n"
          ]
        }
      ]
    },
    {
      "cell_type": "code",
      "source": [
        "model_checkpoint = keras.callbacks.ModelCheckpoint(\n",
        "    filepath='/content/drive/MyDrive/Máy_học_CS114/[Final]/[Model_checkpoint_VGG16]/cp.ckpt',\n",
        "    save_weights_only=True,\n",
        "    verbose = 1\n",
        ")"
      ],
      "metadata": {
        "id": "zf7B05RJM2Og"
      },
      "execution_count": null,
      "outputs": []
    },
    {
      "cell_type": "markdown",
      "source": [
        "#**Train**"
      ],
      "metadata": {
        "id": "FcjyPUrERKH1"
      }
    },
    {
      "cell_type": "code",
      "source": [
        "history = model_final.fit(\n",
        "        train_ds,\n",
        "        validation_data=val_ds,\n",
        "        epochs=epochs,\n",
        "        shuffle=True,\n",
        "        callbacks = [model_earlyStopping, model_checkpoint]\n",
        "  )"
      ],
      "metadata": {
        "id": "LBT1airzIgPa",
        "colab": {
          "base_uri": "https://localhost:8080/"
        },
        "outputId": "8c4770d4-d55b-44a1-a623-aa03bc8119e9"
      },
      "execution_count": null,
      "outputs": [
        {
          "output_type": "stream",
          "name": "stdout",
          "text": [
            "Epoch 1/50\n",
            "230/230 [==============================] - ETA: 0s - loss: 1.4981 - accuracy: 0.5830\n",
            "Epoch 1: saving model to /content/drive/MyDrive/Máy_học_CS114/[Final]/[Model_checkpoint_VGG16]/cp.ckpt\n",
            "230/230 [==============================] - 2818s 12s/step - loss: 1.4981 - accuracy: 0.5830 - val_loss: 0.4238 - val_accuracy: 0.8671\n",
            "Epoch 2/50\n",
            "230/230 [==============================] - ETA: 0s - loss: 0.5580 - accuracy: 0.8116\n",
            "Epoch 2: saving model to /content/drive/MyDrive/Máy_học_CS114/[Final]/[Model_checkpoint_VGG16]/cp.ckpt\n",
            "230/230 [==============================] - 51s 218ms/step - loss: 0.5580 - accuracy: 0.8116 - val_loss: 0.2249 - val_accuracy: 0.9363\n",
            "Epoch 3/50\n",
            "230/230 [==============================] - ETA: 0s - loss: 0.4665 - accuracy: 0.8369\n",
            "Epoch 3: saving model to /content/drive/MyDrive/Máy_học_CS114/[Final]/[Model_checkpoint_VGG16]/cp.ckpt\n",
            "230/230 [==============================] - 52s 220ms/step - loss: 0.4665 - accuracy: 0.8369 - val_loss: 0.1569 - val_accuracy: 0.9455\n",
            "Epoch 4/50\n",
            "230/230 [==============================] - ETA: 0s - loss: 0.3792 - accuracy: 0.8678\n",
            "Epoch 4: saving model to /content/drive/MyDrive/Máy_học_CS114/[Final]/[Model_checkpoint_VGG16]/cp.ckpt\n",
            "230/230 [==============================] - 52s 222ms/step - loss: 0.3792 - accuracy: 0.8678 - val_loss: 0.1316 - val_accuracy: 0.9586\n",
            "Epoch 5/50\n",
            "230/230 [==============================] - ETA: 0s - loss: 0.3385 - accuracy: 0.8837\n",
            "Epoch 5: saving model to /content/drive/MyDrive/Máy_học_CS114/[Final]/[Model_checkpoint_VGG16]/cp.ckpt\n",
            "230/230 [==============================] - 52s 219ms/step - loss: 0.3385 - accuracy: 0.8837 - val_loss: 0.1250 - val_accuracy: 0.9564\n",
            "Epoch 6/50\n",
            "230/230 [==============================] - ETA: 0s - loss: 0.3496 - accuracy: 0.8863\n",
            "Epoch 6: saving model to /content/drive/MyDrive/Máy_học_CS114/[Final]/[Model_checkpoint_VGG16]/cp.ckpt\n",
            "230/230 [==============================] - 52s 222ms/step - loss: 0.3496 - accuracy: 0.8863 - val_loss: 0.1114 - val_accuracy: 0.9635\n",
            "Epoch 7/50\n",
            "230/230 [==============================] - ETA: 0s - loss: 0.3221 - accuracy: 0.8958\n",
            "Epoch 7: saving model to /content/drive/MyDrive/Máy_học_CS114/[Final]/[Model_checkpoint_VGG16]/cp.ckpt\n",
            "230/230 [==============================] - 53s 224ms/step - loss: 0.3221 - accuracy: 0.8958 - val_loss: 0.0986 - val_accuracy: 0.9668\n",
            "Epoch 8/50\n",
            "230/230 [==============================] - ETA: 0s - loss: 0.2771 - accuracy: 0.9035\n",
            "Epoch 8: saving model to /content/drive/MyDrive/Máy_học_CS114/[Final]/[Model_checkpoint_VGG16]/cp.ckpt\n",
            "230/230 [==============================] - 54s 228ms/step - loss: 0.2771 - accuracy: 0.9035 - val_loss: 0.0906 - val_accuracy: 0.9749\n",
            "Epoch 9/50\n",
            "230/230 [==============================] - ETA: 0s - loss: 0.2757 - accuracy: 0.9050\n",
            "Epoch 9: saving model to /content/drive/MyDrive/Máy_học_CS114/[Final]/[Model_checkpoint_VGG16]/cp.ckpt\n",
            "230/230 [==============================] - 51s 218ms/step - loss: 0.2757 - accuracy: 0.9050 - val_loss: 0.0985 - val_accuracy: 0.9657\n",
            "Epoch 10/50\n",
            "230/230 [==============================] - ETA: 0s - loss: 0.2721 - accuracy: 0.9071\n",
            "Epoch 10: saving model to /content/drive/MyDrive/Máy_học_CS114/[Final]/[Model_checkpoint_VGG16]/cp.ckpt\n",
            "230/230 [==============================] - 52s 219ms/step - loss: 0.2721 - accuracy: 0.9071 - val_loss: 0.0774 - val_accuracy: 0.9766\n",
            "Epoch 11/50\n",
            "230/230 [==============================] - ETA: 0s - loss: 0.2594 - accuracy: 0.9112\n",
            "Epoch 11: saving model to /content/drive/MyDrive/Máy_học_CS114/[Final]/[Model_checkpoint_VGG16]/cp.ckpt\n",
            "230/230 [==============================] - 53s 226ms/step - loss: 0.2594 - accuracy: 0.9112 - val_loss: 0.0656 - val_accuracy: 0.9858\n",
            "Epoch 12/50\n",
            "230/230 [==============================] - ETA: 0s - loss: 0.2217 - accuracy: 0.9266\n",
            "Epoch 12: saving model to /content/drive/MyDrive/Máy_học_CS114/[Final]/[Model_checkpoint_VGG16]/cp.ckpt\n",
            "230/230 [==============================] - 52s 221ms/step - loss: 0.2217 - accuracy: 0.9266 - val_loss: 0.0936 - val_accuracy: 0.9717\n",
            "Epoch 13/50\n",
            "230/230 [==============================] - ETA: 0s - loss: 0.2505 - accuracy: 0.9167\n",
            "Epoch 13: saving model to /content/drive/MyDrive/Máy_học_CS114/[Final]/[Model_checkpoint_VGG16]/cp.ckpt\n",
            "230/230 [==============================] - 51s 217ms/step - loss: 0.2505 - accuracy: 0.9167 - val_loss: 0.0628 - val_accuracy: 0.9826\n",
            "Epoch 14/50\n",
            "230/230 [==============================] - ETA: 0s - loss: 0.1860 - accuracy: 0.9355\n",
            "Epoch 14: saving model to /content/drive/MyDrive/Máy_học_CS114/[Final]/[Model_checkpoint_VGG16]/cp.ckpt\n",
            "230/230 [==============================] - 51s 218ms/step - loss: 0.1860 - accuracy: 0.9355 - val_loss: 0.0541 - val_accuracy: 0.9847\n",
            "Epoch 15/50\n",
            "230/230 [==============================] - ETA: 0s - loss: 0.2346 - accuracy: 0.9247\n",
            "Epoch 15: saving model to /content/drive/MyDrive/Máy_học_CS114/[Final]/[Model_checkpoint_VGG16]/cp.ckpt\n",
            "230/230 [==============================] - 53s 225ms/step - loss: 0.2346 - accuracy: 0.9247 - val_loss: 0.0838 - val_accuracy: 0.9804\n",
            "Epoch 16/50\n",
            "230/230 [==============================] - ETA: 0s - loss: 0.2327 - accuracy: 0.9251\n",
            "Epoch 16: saving model to /content/drive/MyDrive/Máy_học_CS114/[Final]/[Model_checkpoint_VGG16]/cp.ckpt\n",
            "230/230 [==============================] - 53s 223ms/step - loss: 0.2327 - accuracy: 0.9251 - val_loss: 0.0714 - val_accuracy: 0.9842\n",
            "Epoch 17/50\n",
            "230/230 [==============================] - ETA: 0s - loss: 0.2135 - accuracy: 0.9314\n",
            "Epoch 17: saving model to /content/drive/MyDrive/Máy_học_CS114/[Final]/[Model_checkpoint_VGG16]/cp.ckpt\n",
            "230/230 [==============================] - 53s 224ms/step - loss: 0.2135 - accuracy: 0.9314 - val_loss: 0.0905 - val_accuracy: 0.9771\n",
            "Epoch 18/50\n",
            "230/230 [==============================] - ETA: 0s - loss: 0.2500 - accuracy: 0.9187\n",
            "Epoch 18: saving model to /content/drive/MyDrive/Máy_học_CS114/[Final]/[Model_checkpoint_VGG16]/cp.ckpt\n",
            "230/230 [==============================] - 52s 219ms/step - loss: 0.2500 - accuracy: 0.9187 - val_loss: 0.0701 - val_accuracy: 0.9815\n",
            "Epoch 19/50\n",
            "230/230 [==============================] - ETA: 0s - loss: 0.2523 - accuracy: 0.9210\n",
            "Epoch 19: saving model to /content/drive/MyDrive/Máy_học_CS114/[Final]/[Model_checkpoint_VGG16]/cp.ckpt\n",
            "230/230 [==============================] - 54s 228ms/step - loss: 0.2523 - accuracy: 0.9210 - val_loss: 0.0795 - val_accuracy: 0.9798\n",
            "Epoch 20/50\n",
            "230/230 [==============================] - ETA: 0s - loss: 0.2289 - accuracy: 0.9244Restoring model weights from the end of the best epoch: 14.\n",
            "\n",
            "Epoch 20: saving model to /content/drive/MyDrive/Máy_học_CS114/[Final]/[Model_checkpoint_VGG16]/cp.ckpt\n",
            "230/230 [==============================] - 53s 224ms/step - loss: 0.2289 - accuracy: 0.9244 - val_loss: 0.0749 - val_accuracy: 0.9809\n",
            "Epoch 20: early stopping\n"
          ]
        }
      ]
    },
    {
      "cell_type": "code",
      "source": [
        "os.listdir('/content/drive/MyDrive/Máy_học_CS114/[Final]/[Model_checkpoint_VGG16]')"
      ],
      "metadata": {
        "id": "nDq3gAZfPeJ7",
        "colab": {
          "base_uri": "https://localhost:8080/"
        },
        "outputId": "39787fae-301b-48b2-d860-6c4d4a6b4c8c"
      },
      "execution_count": null,
      "outputs": [
        {
          "output_type": "execute_result",
          "data": {
            "text/plain": [
              "['cp.ckpt.data-00000-of-00001', 'cp.ckpt.index', 'checkpoint']"
            ]
          },
          "metadata": {},
          "execution_count": 19
        }
      ]
    },
    {
      "cell_type": "code",
      "source": [
        "#Lưu model\n",
        "#!mkdir -p saved_model\n",
        "model_final.save('/content/drive/MyDrive/Máy_học_CS114/[Final]/[Model_checkpoint_VGG16]')\n",
        "#model_final.save('/content/drive/MyDrive/Máy_học_CS114/[Final]/[SaveModel]')"
      ],
      "metadata": {
        "id": "MZ1zC1erKudy",
        "colab": {
          "base_uri": "https://localhost:8080/"
        },
        "outputId": "124b861a-01ab-494d-e53b-02426b964d64"
      },
      "execution_count": null,
      "outputs": [
        {
          "output_type": "stream",
          "name": "stdout",
          "text": [
            "INFO:tensorflow:Assets written to: /content/drive/MyDrive/Máy_học_CS114/[Final]/[Model_checkpoint_VGG16]/assets\n"
          ]
        }
      ]
    },
    {
      "cell_type": "code",
      "source": [
        "#Lưu model\n",
        "model_final.save_weights('/content/drive/MyDrive/Máy_học_CS114/[Final]')"
      ],
      "metadata": {
        "id": "XgPzMWXy27-_"
      },
      "execution_count": null,
      "outputs": []
    },
    {
      "cell_type": "code",
      "source": [
        "#Lưu theo file H5\n",
        "model_final.save('/content/drive/MyDrive/Máy_học_CS114/[Final]/my_model.h5')"
      ],
      "metadata": {
        "id": "sv0Y-s88oKDj"
      },
      "execution_count": null,
      "outputs": []
    },
    {
      "cell_type": "markdown",
      "source": [
        "#**Tiếp tục train(nếu cần)**"
      ],
      "metadata": {
        "id": "Qf8lb4CIDoMg"
      }
    },
    {
      "cell_type": "code",
      "source": [
        "/content/drive/MyDrive/Máy_học_CS114/[Final]/my_model.h5"
      ],
      "metadata": {
        "id": "7yc5LK3z4r25"
      },
      "execution_count": null,
      "outputs": []
    },
    {
      "cell_type": "code",
      "source": [
        "#tiếp tục train nếu GPU bị ngưng\n",
        "import tensorflow as tf\n",
        "from tensorflow.keras.models import load_model\n",
        "import pickle\n"
      ],
      "metadata": {
        "id": "9CxUgQJ8Rbmb"
      },
      "execution_count": null,
      "outputs": []
    },
    {
      "cell_type": "code",
      "source": [
        "from tensorflow.keras.applications import VGG16"
      ],
      "metadata": {
        "id": "35KQnY1OI73w"
      },
      "execution_count": null,
      "outputs": []
    },
    {
      "cell_type": "code",
      "source": [
        "IMG_SHAPE = (IMG_SIZE, IMG_SIZE, 3)\n",
        "model = VGG16(input_shape=IMG_SHAPE,\n",
        "              include_top=False,\n",
        "              weights='imagenet')\n",
        "model.trainable = False\n",
        "\n",
        "model.summary()\n",
        "#bỏ 3 lớp full connected cuối"
      ],
      "metadata": {
        "id": "k-qH8Dm8I73z"
      },
      "execution_count": null,
      "outputs": []
    },
    {
      "cell_type": "code",
      "source": [
        "#Thêm các lớp cuối thay cho 3 lớp đã bỏ\n",
        "model_new = keras.Sequential([\n",
        "    tf.keras.layers.InputLayer(input_shape=IMG_SHAPE),\n",
        "\n",
        "    layers.Rescaling(1./255),\n",
        "\n",
        "    model,\n",
        "    \n",
        "    layers.Flatten(),\n",
        "    layers.Dense(1024, activation='relu'),\n",
        "    layers.Dropout(0.5),\n",
        "    layers.Dense(512, activation='relu'),\n",
        "    layers.Dropout(0.5),\n",
        "    layers.Dense(12)\n",
        "])\n"
      ],
      "metadata": {
        "id": "6heAQpHII73z"
      },
      "execution_count": null,
      "outputs": []
    },
    {
      "cell_type": "code",
      "source": [
        "checkpoint_path = '/content/drive/MyDrive/Máy_học_CS114/[Final]/[Model_checkpoint_VGG16]/cp.ckpt'"
      ],
      "metadata": {
        "id": "vQgEpi_nSXG9"
      },
      "execution_count": null,
      "outputs": []
    },
    {
      "cell_type": "code",
      "source": [
        "model_new.load_weights('/content/drive/MyDrive/Máy_học_CS114/[Final]/[Model_checkpoint_VGG16]')"
      ],
      "metadata": {
        "colab": {
          "base_uri": "https://localhost:8080/",
          "height": 383
        },
        "id": "R-RbegQ82F4F",
        "outputId": "c15b4693-cf4b-491b-aed7-4705f340883c"
      },
      "execution_count": null,
      "outputs": [
        {
          "output_type": "error",
          "ename": "NotFoundError",
          "evalue": "ignored",
          "traceback": [
            "\u001b[0;31m---------------------------------------------------------------------------\u001b[0m",
            "\u001b[0;31mNotFoundError\u001b[0m                             Traceback (most recent call last)",
            "\u001b[0;32m<ipython-input-59-a433897cd58d>\u001b[0m in \u001b[0;36m<module>\u001b[0;34m()\u001b[0m\n\u001b[0;32m----> 1\u001b[0;31m \u001b[0mmodel_new\u001b[0m\u001b[0;34m.\u001b[0m\u001b[0mload_weights\u001b[0m\u001b[0;34m(\u001b[0m\u001b[0;34m'/content/drive/MyDrive/Máy_học_CS114/[Final]/[Model_checkpoint_VGG16]'\u001b[0m\u001b[0;34m)\u001b[0m\u001b[0;34m\u001b[0m\u001b[0;34m\u001b[0m\u001b[0m\n\u001b[0m",
            "\u001b[0;32m/usr/local/lib/python3.7/dist-packages/keras/utils/traceback_utils.py\u001b[0m in \u001b[0;36merror_handler\u001b[0;34m(*args, **kwargs)\u001b[0m\n\u001b[1;32m     65\u001b[0m     \u001b[0;32mexcept\u001b[0m \u001b[0mException\u001b[0m \u001b[0;32mas\u001b[0m \u001b[0me\u001b[0m\u001b[0;34m:\u001b[0m  \u001b[0;31m# pylint: disable=broad-except\u001b[0m\u001b[0;34m\u001b[0m\u001b[0;34m\u001b[0m\u001b[0m\n\u001b[1;32m     66\u001b[0m       \u001b[0mfiltered_tb\u001b[0m \u001b[0;34m=\u001b[0m \u001b[0m_process_traceback_frames\u001b[0m\u001b[0;34m(\u001b[0m\u001b[0me\u001b[0m\u001b[0;34m.\u001b[0m\u001b[0m__traceback__\u001b[0m\u001b[0;34m)\u001b[0m\u001b[0;34m\u001b[0m\u001b[0;34m\u001b[0m\u001b[0m\n\u001b[0;32m---> 67\u001b[0;31m       \u001b[0;32mraise\u001b[0m \u001b[0me\u001b[0m\u001b[0;34m.\u001b[0m\u001b[0mwith_traceback\u001b[0m\u001b[0;34m(\u001b[0m\u001b[0mfiltered_tb\u001b[0m\u001b[0;34m)\u001b[0m \u001b[0;32mfrom\u001b[0m \u001b[0;32mNone\u001b[0m\u001b[0;34m\u001b[0m\u001b[0;34m\u001b[0m\u001b[0m\n\u001b[0m\u001b[1;32m     68\u001b[0m     \u001b[0;32mfinally\u001b[0m\u001b[0;34m:\u001b[0m\u001b[0;34m\u001b[0m\u001b[0;34m\u001b[0m\u001b[0m\n\u001b[1;32m     69\u001b[0m       \u001b[0;32mdel\u001b[0m \u001b[0mfiltered_tb\u001b[0m\u001b[0;34m\u001b[0m\u001b[0;34m\u001b[0m\u001b[0m\n",
            "\u001b[0;32m/usr/local/lib/python3.7/dist-packages/tensorflow/python/training/py_checkpoint_reader.py\u001b[0m in \u001b[0;36merror_translator\u001b[0;34m(e)\u001b[0m\n\u001b[1;32m     29\u001b[0m       \u001b[0;34m'Failed to find any '\u001b[0m\u001b[0;34m\u001b[0m\u001b[0;34m\u001b[0m\u001b[0m\n\u001b[1;32m     30\u001b[0m       'matching files for') in error_message:\n\u001b[0;32m---> 31\u001b[0;31m     \u001b[0;32mraise\u001b[0m \u001b[0merrors_impl\u001b[0m\u001b[0;34m.\u001b[0m\u001b[0mNotFoundError\u001b[0m\u001b[0;34m(\u001b[0m\u001b[0;32mNone\u001b[0m\u001b[0;34m,\u001b[0m \u001b[0;32mNone\u001b[0m\u001b[0;34m,\u001b[0m \u001b[0merror_message\u001b[0m\u001b[0;34m)\u001b[0m\u001b[0;34m\u001b[0m\u001b[0;34m\u001b[0m\u001b[0m\n\u001b[0m\u001b[1;32m     32\u001b[0m   elif 'Sliced checkpoints are not supported' in error_message or (\n\u001b[1;32m     33\u001b[0m       \u001b[0;34m'Data type '\u001b[0m\u001b[0;34m\u001b[0m\u001b[0;34m\u001b[0m\u001b[0m\n",
            "\u001b[0;31mNotFoundError\u001b[0m: Unsuccessful TensorSliceReader constructor: Failed to find any matching files for /content/drive/MyDrive/Máy_học_CS114/[Final]/[Model_checkpoint_VGG16]"
          ]
        }
      ]
    },
    {
      "cell_type": "code",
      "source": [
        "model_new.load_weights(checkpoint_path)"
      ],
      "metadata": {
        "id": "pBV6n7bsSEN2",
        "colab": {
          "base_uri": "https://localhost:8080/",
          "height": 363
        },
        "outputId": "dcff3ad5-43aa-45e7-dc35-d544407accae"
      },
      "execution_count": null,
      "outputs": [
        {
          "output_type": "error",
          "ename": "NotFoundError",
          "evalue": "ignored",
          "traceback": [
            "\u001b[0;31m---------------------------------------------------------------------------\u001b[0m",
            "\u001b[0;31mNotFoundError\u001b[0m                             Traceback (most recent call last)",
            "\u001b[0;32m<ipython-input-57-f1db74cebd0b>\u001b[0m in \u001b[0;36m<module>\u001b[0;34m()\u001b[0m\n\u001b[1;32m      1\u001b[0m \u001b[0;34m\u001b[0m\u001b[0m\n\u001b[0;32m----> 2\u001b[0;31m \u001b[0mmodel\u001b[0m\u001b[0;34m.\u001b[0m\u001b[0mload_weights\u001b[0m\u001b[0;34m(\u001b[0m\u001b[0mcheckpoint_path\u001b[0m\u001b[0;34m)\u001b[0m\u001b[0;34m\u001b[0m\u001b[0;34m\u001b[0m\u001b[0m\n\u001b[0m",
            "\u001b[0;32m/usr/local/lib/python3.7/dist-packages/keras/utils/traceback_utils.py\u001b[0m in \u001b[0;36merror_handler\u001b[0;34m(*args, **kwargs)\u001b[0m\n\u001b[1;32m     65\u001b[0m     \u001b[0;32mexcept\u001b[0m \u001b[0mException\u001b[0m \u001b[0;32mas\u001b[0m \u001b[0me\u001b[0m\u001b[0;34m:\u001b[0m  \u001b[0;31m# pylint: disable=broad-except\u001b[0m\u001b[0;34m\u001b[0m\u001b[0;34m\u001b[0m\u001b[0m\n\u001b[1;32m     66\u001b[0m       \u001b[0mfiltered_tb\u001b[0m \u001b[0;34m=\u001b[0m \u001b[0m_process_traceback_frames\u001b[0m\u001b[0;34m(\u001b[0m\u001b[0me\u001b[0m\u001b[0;34m.\u001b[0m\u001b[0m__traceback__\u001b[0m\u001b[0;34m)\u001b[0m\u001b[0;34m\u001b[0m\u001b[0;34m\u001b[0m\u001b[0m\n\u001b[0;32m---> 67\u001b[0;31m       \u001b[0;32mraise\u001b[0m \u001b[0me\u001b[0m\u001b[0;34m.\u001b[0m\u001b[0mwith_traceback\u001b[0m\u001b[0;34m(\u001b[0m\u001b[0mfiltered_tb\u001b[0m\u001b[0;34m)\u001b[0m \u001b[0;32mfrom\u001b[0m \u001b[0;32mNone\u001b[0m\u001b[0;34m\u001b[0m\u001b[0;34m\u001b[0m\u001b[0m\n\u001b[0m\u001b[1;32m     68\u001b[0m     \u001b[0;32mfinally\u001b[0m\u001b[0;34m:\u001b[0m\u001b[0;34m\u001b[0m\u001b[0;34m\u001b[0m\u001b[0m\n\u001b[1;32m     69\u001b[0m       \u001b[0;32mdel\u001b[0m \u001b[0mfiltered_tb\u001b[0m\u001b[0;34m\u001b[0m\u001b[0;34m\u001b[0m\u001b[0m\n",
            "\u001b[0;32m/usr/local/lib/python3.7/dist-packages/tensorflow/python/training/py_checkpoint_reader.py\u001b[0m in \u001b[0;36merror_translator\u001b[0;34m(e)\u001b[0m\n\u001b[1;32m     29\u001b[0m       \u001b[0;34m'Failed to find any '\u001b[0m\u001b[0;34m\u001b[0m\u001b[0;34m\u001b[0m\u001b[0m\n\u001b[1;32m     30\u001b[0m       'matching files for') in error_message:\n\u001b[0;32m---> 31\u001b[0;31m     \u001b[0;32mraise\u001b[0m \u001b[0merrors_impl\u001b[0m\u001b[0;34m.\u001b[0m\u001b[0mNotFoundError\u001b[0m\u001b[0;34m(\u001b[0m\u001b[0;32mNone\u001b[0m\u001b[0;34m,\u001b[0m \u001b[0;32mNone\u001b[0m\u001b[0;34m,\u001b[0m \u001b[0merror_message\u001b[0m\u001b[0;34m)\u001b[0m\u001b[0;34m\u001b[0m\u001b[0;34m\u001b[0m\u001b[0m\n\u001b[0m\u001b[1;32m     32\u001b[0m   elif 'Sliced checkpoints are not supported' in error_message or (\n\u001b[1;32m     33\u001b[0m       \u001b[0;34m'Data type '\u001b[0m\u001b[0;34m\u001b[0m\u001b[0;34m\u001b[0m\u001b[0m\n",
            "\u001b[0;31mNotFoundError\u001b[0m: Unsuccessful TensorSliceReader constructor: Failed to find any matching files for /content/drive/MyDrive/Máy_học_CS114/[Final]/[Model_checkpoint_VGG16]/cp.ckpt"
          ]
        }
      ]
    },
    {
      "cell_type": "code",
      "source": [
        "model_earlyStopping = tf.keras.callbacks.EarlyStopping(\n",
        "    monitor=\"val_loss\",\n",
        "    min_delta=1e-5,\n",
        "    patience=3,\n",
        "    verbose=0,\n",
        "    mode=\"auto\",\n",
        "    baseline=None,\n",
        "    restore_best_weights=False,\n",
        ")"
      ],
      "metadata": {
        "id": "IqIYPXngUvO2"
      },
      "execution_count": null,
      "outputs": []
    },
    {
      "cell_type": "code",
      "source": [
        "model_checkpoint = keras.callbacks.ModelCheckpoint(\n",
        "    filepath='/content/drive/MyDrive/Máy_học_CS114/[Final]/[Model_checkpoint_VGG16]',\n",
        "    save_weights_only=False,\n",
        "    monitor='val_loss',\n",
        "    mode='auto',\n",
        "    save_best_only=False,\n",
        "    save_freq=3\n",
        ")"
      ],
      "metadata": {
        "id": "7kyr1V9RUvO4"
      },
      "execution_count": null,
      "outputs": []
    },
    {
      "cell_type": "code",
      "source": [
        "history = model_continue.fit(\n",
        "        train_ds,\n",
        "        validation_data=val_ds,\n",
        "        epochs=epochs,\n",
        "        shuffle=True,\n",
        "        callbacks = [model_earlyStopping, model_checkpoint]\n",
        "  )"
      ],
      "metadata": {
        "id": "C6vtAjswU9b5"
      },
      "execution_count": null,
      "outputs": []
    },
    {
      "cell_type": "markdown",
      "source": [
        "#**Test**"
      ],
      "metadata": {
        "id": "N9H_lCobDuIz"
      }
    },
    {
      "cell_type": "code",
      "source": [
        "# Plot of validation loss and loss \n",
        "plt.plot(history.history['loss'])\n",
        "plt.plot(history.history['val_loss'])\n",
        "plt.title('model loss')\n",
        "plt.ylabel('loss')\n",
        "plt.xlabel('epoch')\n",
        "plt.legend(['train', 'test'], loc='upper left')\n",
        "plt.show()"
      ],
      "metadata": {
        "id": "oRGlXP3mZyko",
        "colab": {
          "base_uri": "https://localhost:8080/",
          "height": 295
        },
        "outputId": "a4d9279f-4a2b-42cf-c74b-cb50e35b647a"
      },
      "execution_count": null,
      "outputs": [
        {
          "output_type": "display_data",
          "data": {
            "text/plain": [
              "<Figure size 432x288 with 1 Axes>"
            ],
            "image/png": "[encoded data removed]"
          },
          "metadata": {
            "needs_background": "light"
          }
        }
      ]
    },
    {
      "cell_type": "code",
      "source": [
        "from keras.preprocessing import image\n",
        "temp = \"/content/drive/MyDrive/Máy_học_CS114/Data/Data_raw/NgoiGu/WIN_20220525_17_59_02_Pro (1).jpg\"\n",
        "img = image.load_img(temp,target_size=(224,224))\n",
        "img = np.asarray(img)\n",
        "plt.imshow(img)\n",
        "img = np.expand_dims(img, axis=0)"
      ],
      "metadata": {
        "colab": {
          "base_uri": "https://localhost:8080/",
          "height": 269
        },
        "id": "u9Ghvz4rMj9N",
        "outputId": "c86ec375-95e8-4e7d-9ec1-80c0c4471622"
      },
      "execution_count": null,
      "outputs": [
        {
          "output_type": "display_data",
          "data": {
            "text/plain": [
              "<Figure size 432x288 with 1 Axes>"
            ],
            "image/png": "[encoded data removed]"
          },
          "metadata": {
            "needs_background": "light"
          }
        }
      ]
    },
    {
      "cell_type": "code",
      "source": [
        "print(img.shape)"
      ],
      "metadata": {
        "colab": {
          "base_uri": "https://localhost:8080/"
        },
        "id": "-FMtkUbtXT67",
        "outputId": "de5bda03-ecf0-48ec-b51c-4d86ca7b8dcb"
      },
      "execution_count": null,
      "outputs": [
        {
          "output_type": "stream",
          "name": "stdout",
          "text": [
            "(1, 224, 224, 3)\n"
          ]
        }
      ]
    },
    {
      "cell_type": "code",
      "source": [
        "reconstructed_model = keras.models.load_model(\"/content/drive/MyDrive/Máy_học_CS114/[Final]/my_model.h5\")"
      ],
      "metadata": {
        "id": "7wFA4-rZRqZR"
      },
      "execution_count": null,
      "outputs": []
    },
    {
      "cell_type": "code",
      "source": [
        "out = model_final.predict(img)\n",
        "preds = np.argmax(out, axis=1)\n",
        "print(preds)\n",
        "for pred in preds:\n",
        "  if pred  == 0:\n",
        "    print(\"CamDT\")\n",
        "  elif pred == 1:\n",
        "    print(\"CanMongTay\")\n",
        "  elif pred == 2:\n",
        "    print(\"ChamTayLenMat\")\n",
        "  elif pred == 3:\n",
        "    print(\"ChongCam1Tay\")\n",
        "  elif pred == 4:\n",
        "    print(\"ChongCam2Tay\")\n",
        "  elif pred == 5:\n",
        "    print(\"NgoiGacChan\")\n",
        "  elif pred == 6:\n",
        "    print(\"NgoiGu\")\n",
        "  elif pred == 7:\n",
        "    print(\"NgoiThang\")\n",
        "  elif pred == 8:\n",
        "    print(\"NguNguaRaSau\")\n",
        "  elif pred == 9:\n",
        "    print(\"NguUpMat\")\n",
        "  elif pred == 10:\n",
        "    print(\"VoDau\")\n",
        "  elif pred == 11:\n",
        "    print(\"VuonVai\")\n",
        "  \n",
        "  \n"
      ],
      "metadata": {
        "colab": {
          "base_uri": "https://localhost:8080/"
        },
        "id": "6F5mNNEoYj5l",
        "outputId": "84a04252-ad59-4afe-ad79-ff448d1b85bd"
      },
      "execution_count": null,
      "outputs": [
        {
          "output_type": "stream",
          "name": "stdout",
          "text": [
            "[6]\n",
            "NgoiGu\n"
          ]
        }
      ]
    },
    {
      "cell_type": "markdown",
      "source": [
        "#**Test bằng tập Datatest**"
      ],
      "metadata": {
        "id": "jjXszfcBFzg8"
      }
    },
    {
      "cell_type": "markdown",
      "source": [
        "**Lưu path và label ảnh**"
      ],
      "metadata": {
        "id": "7XrrwGWNF3b2"
      }
    },
    {
      "cell_type": "code",
      "source": [
        "import pandas as pd\n",
        "import csv\n",
        "import glob2\n",
        "import os\n",
        "import numpy as np"
      ],
      "metadata": {
        "id": "V6f40jI1Fy_v"
      },
      "execution_count": null,
      "outputs": []
    },
    {
      "cell_type": "code",
      "source": [
        "path = ['/content/drive/MyDrive/Máy_học_CS114/Data/Data_Test/CamDT',\n",
        " '/content/drive/MyDrive/Máy_học_CS114/Data/Data_Test/CanMongTay',\n",
        " '/content/drive/MyDrive/Máy_học_CS114/Data/Data_Test/ChamTayLenMat',\n",
        " '/content/drive/MyDrive/Máy_học_CS114/Data/Data_Test/ChongCam1Tay',\n",
        " '/content/drive/MyDrive/Máy_học_CS114/Data/Data_Test/ChongCam2Tay',\n",
        " '/content/drive/MyDrive/Máy_học_CS114/Data/Data_Test/NgoiGacChan',\n",
        " '/content/drive/MyDrive/Máy_học_CS114/Data/Data_Test/NgoiGu',\n",
        " '/content/drive/MyDrive/Máy_học_CS114/Data/Data_Test/NgoiThang',\n",
        " '/content/drive/MyDrive/Máy_học_CS114/Data/Data_Test/NguNguaRaSau',\n",
        " '/content/drive/MyDrive/Máy_học_CS114/Data/Data_Test/NguUpMat',\n",
        " '/content/drive/MyDrive/Máy_học_CS114/Data/Data_Test/VoDau',\n",
        " '/content/drive/MyDrive/Máy_học_CS114/Data/Data_Test/VuonVai']\n",
        "print(len(path))"
      ],
      "metadata": {
        "id": "NPmtbwJSGDOw",
        "colab": {
          "base_uri": "https://localhost:8080/"
        },
        "outputId": "0f7faeb3-7410-4374-a480-f9febc9a89a6"
      },
      "execution_count": null,
      "outputs": [
        {
          "output_type": "stream",
          "name": "stdout",
          "text": [
            "12\n"
          ]
        }
      ]
    },
    {
      "cell_type": "code",
      "source": [
        "df = []   "
      ],
      "metadata": {
        "id": "hUEhy4JO5XVb"
      },
      "execution_count": null,
      "outputs": []
    },
    {
      "cell_type": "code",
      "source": [
        "for i in range(len(path)):\n",
        "  files = []\n",
        "  for ext in [\"*.png\", \"*.jpeg\", \"*.jpg\"]:\n",
        "    image_files = glob2.glob(os.path.join(path[i], ext))\n",
        "    files += image_files\n",
        "\n",
        "\n",
        "  for j in range(len(files)):\n",
        "    img = image.load_img(files[j],target_size=(224,224))\n",
        "    img = np.asarray(img)\n",
        "    img = np.expand_dims(img, axis=0)\n",
        "    out = model_final.predict(img)\n",
        "    pred = np.argmax(out, axis=1)\n",
        "    df_features = pd.DataFrame(\n",
        "          {\n",
        "              'Path' : [files[j]],\n",
        "              'Label': pred\n",
        "          })\n",
        "    df.append(df_features)\n",
        "   \n"
      ],
      "metadata": {
        "id": "5hkR5kC_kWG0"
      },
      "execution_count": null,
      "outputs": []
    },
    {
      "cell_type": "code",
      "source": [
        "dfcon = pd.concat([i for i in df])\n",
        "dfcon"
      ],
      "metadata": {
        "colab": {
          "base_uri": "https://localhost:8080/",
          "height": 424
        },
        "id": "a11KaGbO5dgs",
        "outputId": "6618292d-190d-41bc-d7d3-9316fa216141"
      },
      "execution_count": null,
      "outputs": [
        {
          "output_type": "execute_result",
          "data": {
            "text/plain": [
              "                                                 Path  Label\n",
              "0   /content/drive/MyDrive/Máy_học_CS114/Data/Da...      7\n",
              "0   /content/drive/MyDrive/Máy_học_CS114/Data/Da...      7\n",
              "0   /content/drive/MyDrive/Máy_học_CS114/Data/Da...      0\n",
              "0   /content/drive/MyDrive/Máy_học_CS114/Data/Da...      0\n",
              "0   /content/drive/MyDrive/Máy_học_CS114/Data/Da...      0\n",
              "..                                                ...    ...\n",
              "0   /content/drive/MyDrive/Máy_học_CS114/Data/Da...     11\n",
              "0   /content/drive/MyDrive/Máy_học_CS114/Data/Da...      2\n",
              "0   /content/drive/MyDrive/Máy_học_CS114/Data/Da...      7\n",
              "0   /content/drive/MyDrive/Máy_học_CS114/Data/Da...     11\n",
              "0   /content/drive/MyDrive/Máy_học_CS114/Data/Da...     11\n",
              "\n",
              "[1222 rows x 2 columns]"
            ],
            "text/html": [
              "\n",
              "  <div id=\"df-a0ce1828-b903-4761-853e-163600d96d06\">\n",
              "    <div class=\"colab-df-container\">\n",
              "      <div>\n",
              "<style scoped>\n",
              "    .dataframe tbody tr th:only-of-type {\n",
              "        vertical-align: middle;\n",
              "    }\n",
              "\n",
              "    .dataframe tbody tr th {\n",
              "        vertical-align: top;\n",
              "    }\n",
              "\n",
              "    .dataframe thead th {\n",
              "        text-align: right;\n",
              "    }\n",
              "</style>\n",
              "<table border=\"1\" class=\"dataframe\">\n",
              "  <thead>\n",
              "    <tr style=\"text-align: right;\">\n",
              "      <th></th>\n",
              "      <th>Path</th>\n",
              "      <th>Label</th>\n",
              "    </tr>\n",
              "  </thead>\n",
              "  <tbody>\n",
              "    <tr>\n",
              "      <th>0</th>\n",
              "      <td>/content/drive/MyDrive/Máy_học_CS114/Data/Da...</td>\n",
              "      <td>7</td>\n",
              "    </tr>\n",
              "    <tr>\n",
              "      <th>0</th>\n",
              "      <td>/content/drive/MyDrive/Máy_học_CS114/Data/Da...</td>\n",
              "      <td>7</td>\n",
              "    </tr>\n",
              "    <tr>\n",
              "      <th>0</th>\n",
              "      <td>/content/drive/MyDrive/Máy_học_CS114/Data/Da...</td>\n",
              "      <td>0</td>\n",
              "    </tr>\n",
              "    <tr>\n",
              "      <th>0</th>\n",
              "      <td>/content/drive/MyDrive/Máy_học_CS114/Data/Da...</td>\n",
              "      <td>0</td>\n",
              "    </tr>\n",
              "    <tr>\n",
              "      <th>0</th>\n",
              "      <td>/content/drive/MyDrive/Máy_học_CS114/Data/Da...</td>\n",
              "      <td>0</td>\n",
              "    </tr>\n",
              "    <tr>\n",
              "      <th>...</th>\n",
              "      <td>...</td>\n",
              "      <td>...</td>\n",
              "    </tr>\n",
              "    <tr>\n",
              "      <th>0</th>\n",
              "      <td>/content/drive/MyDrive/Máy_học_CS114/Data/Da...</td>\n",
              "      <td>11</td>\n",
              "    </tr>\n",
              "    <tr>\n",
              "      <th>0</th>\n",
              "      <td>/content/drive/MyDrive/Máy_học_CS114/Data/Da...</td>\n",
              "      <td>2</td>\n",
              "    </tr>\n",
              "    <tr>\n",
              "      <th>0</th>\n",
              "      <td>/content/drive/MyDrive/Máy_học_CS114/Data/Da...</td>\n",
              "      <td>7</td>\n",
              "    </tr>\n",
              "    <tr>\n",
              "      <th>0</th>\n",
              "      <td>/content/drive/MyDrive/Máy_học_CS114/Data/Da...</td>\n",
              "      <td>11</td>\n",
              "    </tr>\n",
              "    <tr>\n",
              "      <th>0</th>\n",
              "      <td>/content/drive/MyDrive/Máy_học_CS114/Data/Da...</td>\n",
              "      <td>11</td>\n",
              "    </tr>\n",
              "  </tbody>\n",
              "</table>\n",
              "<p>1222 rows × 2 columns</p>\n",
              "</div>\n",
              "      <button class=\"colab-df-convert\" onclick=\"convertToInteractive('df-a0ce1828-b903-4761-853e-163600d96d06')\"\n",
              "              title=\"Convert this dataframe to an interactive table.\"\n",
              "              style=\"display:none;\">\n",
              "        \n",
              "  <svg xmlns=\"http://www.w3.org/2000/svg\" height=\"24px\"viewBox=\"0 0 24 24\"\n",
              "       width=\"24px\">\n",
              "    <path d=\"M0 0h24v24H0V0z\" fill=\"none\"/>\n",
              "    <path d=\"M18.56 5.44l.94 2.06.94-2.06 2.06-.94-2.06-.94-.94-2.06-.94 2.06-2.06.94zm-11 1L8.5 8.5l.94-2.06 2.06-.94-2.06-.94L8.5 2.5l-.94 2.06-2.06.94zm10 10l.94 2.06.94-2.06 2.06-.94-2.06-.94-.94-2.06-.94 2.06-2.06.94z\"/><path d=\"M17.41 7.96l-1.37-1.37c-.4-.4-.92-.59-1.43-.59-.52 0-1.04.2-1.43.59L10.3 9.45l-7.72 7.72c-.78.78-.78 2.05 0 2.83L4 21.41c.39.39.9.59 1.41.59.51 0 1.02-.2 1.41-.59l7.78-7.78 2.81-2.81c.8-.78.8-2.07 0-2.86zM5.41 20L4 18.59l7.72-7.72 1.47 1.35L5.41 20z\"/>\n",
              "  </svg>\n",
              "      </button>\n",
              "      \n",
              "  <style>\n",
              "    .colab-df-container {\n",
              "      display:flex;\n",
              "      flex-wrap:wrap;\n",
              "      gap: 12px;\n",
              "    }\n",
              "\n",
              "    .colab-df-convert {\n",
              "      background-color: #E8F0FE;\n",
              "      border: none;\n",
              "      border-radius: 50%;\n",
              "      cursor: pointer;\n",
              "      display: none;\n",
              "      fill: #1967D2;\n",
              "      height: 32px;\n",
              "      padding: 0 0 0 0;\n",
              "      width: 32px;\n",
              "    }\n",
              "\n",
              "    .colab-df-convert:hover {\n",
              "      background-color: #E2EBFA;\n",
              "      box-shadow: 0px 1px 2px rgba(60, 64, 67, 0.3), 0px 1px 3px 1px rgba(60, 64, 67, 0.15);\n",
              "      fill: #174EA6;\n",
              "    }\n",
              "\n",
              "    [theme=dark] .colab-df-convert {\n",
              "      background-color: #3B4455;\n",
              "      fill: #D2E3FC;\n",
              "    }\n",
              "\n",
              "    [theme=dark] .colab-df-convert:hover {\n",
              "      background-color: #434B5C;\n",
              "      box-shadow: 0px 1px 3px 1px rgba(0, 0, 0, 0.15);\n",
              "      filter: drop-shadow(0px 1px 2px rgba(0, 0, 0, 0.3));\n",
              "      fill: #FFFFFF;\n",
              "    }\n",
              "  </style>\n",
              "\n",
              "      <script>\n",
              "        const buttonEl =\n",
              "          document.querySelector('#df-a0ce1828-b903-4761-853e-163600d96d06 button.colab-df-convert');\n",
              "        buttonEl.style.display =\n",
              "          google.colab.kernel.accessAllowed ? 'block' : 'none';\n",
              "\n",
              "        async function convertToInteractive(key) {\n",
              "          const element = document.querySelector('#df-a0ce1828-b903-4761-853e-163600d96d06');\n",
              "          const dataTable =\n",
              "            await google.colab.kernel.invokeFunction('convertToInteractive',\n",
              "                                                     [key], {});\n",
              "          if (!dataTable) return;\n",
              "\n",
              "          const docLinkHtml = 'Like what you see? Visit the ' +\n",
              "            '<a target=\"_blank\" href=https://colab.research.google.com/notebooks/data_table.ipynb>data table notebook</a>'\n",
              "            + ' to learn more about interactive tables.';\n",
              "          element.innerHTML = '';\n",
              "          dataTable['output_type'] = 'display_data';\n",
              "          await google.colab.output.renderOutput(dataTable, element);\n",
              "          const docLink = document.createElement('div');\n",
              "          docLink.innerHTML = docLinkHtml;\n",
              "          element.appendChild(docLink);\n",
              "        }\n",
              "      </script>\n",
              "    </div>\n",
              "  </div>\n",
              "  "
            ]
          },
          "metadata": {},
          "execution_count": 38
        }
      ]
    },
    {
      "cell_type": "code",
      "source": [
        "dfcon.to_csv('/content/drive/MyDrive/Máy_học_CS114/[Final]/[Test_VGG16]/predictLabel.csv', index=False)"
      ],
      "metadata": {
        "id": "5no-Kd2-7fEA"
      },
      "execution_count": null,
      "outputs": []
    },
    {
      "cell_type": "code",
      "source": [
        "test = pd.read_csv('/content/drive/MyDrive/Máy_học_CS114/[Final]/[Test_VGG16]/testLabel.csv')\n",
        "test"
      ],
      "metadata": {
        "colab": {
          "base_uri": "https://localhost:8080/",
          "height": 424
        },
        "id": "WoXmZwp67r6_",
        "outputId": "b03adb35-e45f-4946-8de3-dad23f0611eb"
      },
      "execution_count": null,
      "outputs": [
        {
          "output_type": "execute_result",
          "data": {
            "text/plain": [
              "                                                   Path  Label\n",
              "0     /content/drive/MyDrive/Colab Notebooks/Máy_ho...      0\n",
              "1     /content/drive/MyDrive/Colab Notebooks/Máy_ho...      0\n",
              "2     /content/drive/MyDrive/Colab Notebooks/Máy_ho...      0\n",
              "3     /content/drive/MyDrive/Colab Notebooks/Máy_ho...      0\n",
              "4     /content/drive/MyDrive/Colab Notebooks/Máy_ho...      0\n",
              "...                                                 ...    ...\n",
              "1217  /content/drive/MyDrive/Colab Notebooks/Máy_ho...     11\n",
              "1218  /content/drive/MyDrive/Colab Notebooks/Máy_ho...     11\n",
              "1219  /content/drive/MyDrive/Colab Notebooks/Máy_ho...     11\n",
              "1220  /content/drive/MyDrive/Colab Notebooks/Máy_ho...     11\n",
              "1221  /content/drive/MyDrive/Colab Notebooks/Máy_ho...     11\n",
              "\n",
              "[1222 rows x 2 columns]"
            ],
            "text/html": [
              "\n",
              "  <div id=\"df-1bbff000-32c7-4669-bcce-ec78d4453caf\">\n",
              "    <div class=\"colab-df-container\">\n",
              "      <div>\n",
              "<style scoped>\n",
              "    .dataframe tbody tr th:only-of-type {\n",
              "        vertical-align: middle;\n",
              "    }\n",
              "\n",
              "    .dataframe tbody tr th {\n",
              "        vertical-align: top;\n",
              "    }\n",
              "\n",
              "    .dataframe thead th {\n",
              "        text-align: right;\n",
              "    }\n",
              "</style>\n",
              "<table border=\"1\" class=\"dataframe\">\n",
              "  <thead>\n",
              "    <tr style=\"text-align: right;\">\n",
              "      <th></th>\n",
              "      <th>Path</th>\n",
              "      <th>Label</th>\n",
              "    </tr>\n",
              "  </thead>\n",
              "  <tbody>\n",
              "    <tr>\n",
              "      <th>0</th>\n",
              "      <td>/content/drive/MyDrive/Colab Notebooks/Máy_ho...</td>\n",
              "      <td>0</td>\n",
              "    </tr>\n",
              "    <tr>\n",
              "      <th>1</th>\n",
              "      <td>/content/drive/MyDrive/Colab Notebooks/Máy_ho...</td>\n",
              "      <td>0</td>\n",
              "    </tr>\n",
              "    <tr>\n",
              "      <th>2</th>\n",
              "      <td>/content/drive/MyDrive/Colab Notebooks/Máy_ho...</td>\n",
              "      <td>0</td>\n",
              "    </tr>\n",
              "    <tr>\n",
              "      <th>3</th>\n",
              "      <td>/content/drive/MyDrive/Colab Notebooks/Máy_ho...</td>\n",
              "      <td>0</td>\n",
              "    </tr>\n",
              "    <tr>\n",
              "      <th>4</th>\n",
              "      <td>/content/drive/MyDrive/Colab Notebooks/Máy_ho...</td>\n",
              "      <td>0</td>\n",
              "    </tr>\n",
              "    <tr>\n",
              "      <th>...</th>\n",
              "      <td>...</td>\n",
              "      <td>...</td>\n",
              "    </tr>\n",
              "    <tr>\n",
              "      <th>1217</th>\n",
              "      <td>/content/drive/MyDrive/Colab Notebooks/Máy_ho...</td>\n",
              "      <td>11</td>\n",
              "    </tr>\n",
              "    <tr>\n",
              "      <th>1218</th>\n",
              "      <td>/content/drive/MyDrive/Colab Notebooks/Máy_ho...</td>\n",
              "      <td>11</td>\n",
              "    </tr>\n",
              "    <tr>\n",
              "      <th>1219</th>\n",
              "      <td>/content/drive/MyDrive/Colab Notebooks/Máy_ho...</td>\n",
              "      <td>11</td>\n",
              "    </tr>\n",
              "    <tr>\n",
              "      <th>1220</th>\n",
              "      <td>/content/drive/MyDrive/Colab Notebooks/Máy_ho...</td>\n",
              "      <td>11</td>\n",
              "    </tr>\n",
              "    <tr>\n",
              "      <th>1221</th>\n",
              "      <td>/content/drive/MyDrive/Colab Notebooks/Máy_ho...</td>\n",
              "      <td>11</td>\n",
              "    </tr>\n",
              "  </tbody>\n",
              "</table>\n",
              "<p>1222 rows × 2 columns</p>\n",
              "</div>\n",
              "      <button class=\"colab-df-convert\" onclick=\"convertToInteractive('df-1bbff000-32c7-4669-bcce-ec78d4453caf')\"\n",
              "              title=\"Convert this dataframe to an interactive table.\"\n",
              "              style=\"display:none;\">\n",
              "        \n",
              "  <svg xmlns=\"http://www.w3.org/2000/svg\" height=\"24px\"viewBox=\"0 0 24 24\"\n",
              "       width=\"24px\">\n",
              "    <path d=\"M0 0h24v24H0V0z\" fill=\"none\"/>\n",
              "    <path d=\"M18.56 5.44l.94 2.06.94-2.06 2.06-.94-2.06-.94-.94-2.06-.94 2.06-2.06.94zm-11 1L8.5 8.5l.94-2.06 2.06-.94-2.06-.94L8.5 2.5l-.94 2.06-2.06.94zm10 10l.94 2.06.94-2.06 2.06-.94-2.06-.94-.94-2.06-.94 2.06-2.06.94z\"/><path d=\"M17.41 7.96l-1.37-1.37c-.4-.4-.92-.59-1.43-.59-.52 0-1.04.2-1.43.59L10.3 9.45l-7.72 7.72c-.78.78-.78 2.05 0 2.83L4 21.41c.39.39.9.59 1.41.59.51 0 1.02-.2 1.41-.59l7.78-7.78 2.81-2.81c.8-.78.8-2.07 0-2.86zM5.41 20L4 18.59l7.72-7.72 1.47 1.35L5.41 20z\"/>\n",
              "  </svg>\n",
              "      </button>\n",
              "      \n",
              "  <style>\n",
              "    .colab-df-container {\n",
              "      display:flex;\n",
              "      flex-wrap:wrap;\n",
              "      gap: 12px;\n",
              "    }\n",
              "\n",
              "    .colab-df-convert {\n",
              "      background-color: #E8F0FE;\n",
              "      border: none;\n",
              "      border-radius: 50%;\n",
              "      cursor: pointer;\n",
              "      display: none;\n",
              "      fill: #1967D2;\n",
              "      height: 32px;\n",
              "      padding: 0 0 0 0;\n",
              "      width: 32px;\n",
              "    }\n",
              "\n",
              "    .colab-df-convert:hover {\n",
              "      background-color: #E2EBFA;\n",
              "      box-shadow: 0px 1px 2px rgba(60, 64, 67, 0.3), 0px 1px 3px 1px rgba(60, 64, 67, 0.15);\n",
              "      fill: #174EA6;\n",
              "    }\n",
              "\n",
              "    [theme=dark] .colab-df-convert {\n",
              "      background-color: #3B4455;\n",
              "      fill: #D2E3FC;\n",
              "    }\n",
              "\n",
              "    [theme=dark] .colab-df-convert:hover {\n",
              "      background-color: #434B5C;\n",
              "      box-shadow: 0px 1px 3px 1px rgba(0, 0, 0, 0.15);\n",
              "      filter: drop-shadow(0px 1px 2px rgba(0, 0, 0, 0.3));\n",
              "      fill: #FFFFFF;\n",
              "    }\n",
              "  </style>\n",
              "\n",
              "      <script>\n",
              "        const buttonEl =\n",
              "          document.querySelector('#df-1bbff000-32c7-4669-bcce-ec78d4453caf button.colab-df-convert');\n",
              "        buttonEl.style.display =\n",
              "          google.colab.kernel.accessAllowed ? 'block' : 'none';\n",
              "\n",
              "        async function convertToInteractive(key) {\n",
              "          const element = document.querySelector('#df-1bbff000-32c7-4669-bcce-ec78d4453caf');\n",
              "          const dataTable =\n",
              "            await google.colab.kernel.invokeFunction('convertToInteractive',\n",
              "                                                     [key], {});\n",
              "          if (!dataTable) return;\n",
              "\n",
              "          const docLinkHtml = 'Like what you see? Visit the ' +\n",
              "            '<a target=\"_blank\" href=https://colab.research.google.com/notebooks/data_table.ipynb>data table notebook</a>'\n",
              "            + ' to learn more about interactive tables.';\n",
              "          element.innerHTML = '';\n",
              "          dataTable['output_type'] = 'display_data';\n",
              "          await google.colab.output.renderOutput(dataTable, element);\n",
              "          const docLink = document.createElement('div');\n",
              "          docLink.innerHTML = docLinkHtml;\n",
              "          element.appendChild(docLink);\n",
              "        }\n",
              "      </script>\n",
              "    </div>\n",
              "  </div>\n",
              "  "
            ]
          },
          "metadata": {},
          "execution_count": 43
        }
      ]
    },
    {
      "cell_type": "code",
      "source": [
        "predict = pd.read_csv('/content/drive/MyDrive/Máy_học_CS114/[Final]/[Test_VGG16]/predictLabel.csv')\n",
        "predict"
      ],
      "metadata": {
        "colab": {
          "base_uri": "https://localhost:8080/",
          "height": 424
        },
        "id": "VxvtGQQy77ov",
        "outputId": "e2460622-c0ec-4bf2-c065-63d8a90cbe7f"
      },
      "execution_count": null,
      "outputs": [
        {
          "output_type": "execute_result",
          "data": {
            "text/plain": [
              "                                                   Path  Label\n",
              "0     /content/drive/MyDrive/Máy_học_CS114/Data/Da...      7\n",
              "1     /content/drive/MyDrive/Máy_học_CS114/Data/Da...      7\n",
              "2     /content/drive/MyDrive/Máy_học_CS114/Data/Da...      0\n",
              "3     /content/drive/MyDrive/Máy_học_CS114/Data/Da...      0\n",
              "4     /content/drive/MyDrive/Máy_học_CS114/Data/Da...      0\n",
              "...                                                 ...    ...\n",
              "1217  /content/drive/MyDrive/Máy_học_CS114/Data/Da...     11\n",
              "1218  /content/drive/MyDrive/Máy_học_CS114/Data/Da...      2\n",
              "1219  /content/drive/MyDrive/Máy_học_CS114/Data/Da...      7\n",
              "1220  /content/drive/MyDrive/Máy_học_CS114/Data/Da...     11\n",
              "1221  /content/drive/MyDrive/Máy_học_CS114/Data/Da...     11\n",
              "\n",
              "[1222 rows x 2 columns]"
            ],
            "text/html": [
              "\n",
              "  <div id=\"df-e6e2f9f9-c335-4c65-8539-c174a00d2ef8\">\n",
              "    <div class=\"colab-df-container\">\n",
              "      <div>\n",
              "<style scoped>\n",
              "    .dataframe tbody tr th:only-of-type {\n",
              "        vertical-align: middle;\n",
              "    }\n",
              "\n",
              "    .dataframe tbody tr th {\n",
              "        vertical-align: top;\n",
              "    }\n",
              "\n",
              "    .dataframe thead th {\n",
              "        text-align: right;\n",
              "    }\n",
              "</style>\n",
              "<table border=\"1\" class=\"dataframe\">\n",
              "  <thead>\n",
              "    <tr style=\"text-align: right;\">\n",
              "      <th></th>\n",
              "      <th>Path</th>\n",
              "      <th>Label</th>\n",
              "    </tr>\n",
              "  </thead>\n",
              "  <tbody>\n",
              "    <tr>\n",
              "      <th>0</th>\n",
              "      <td>/content/drive/MyDrive/Máy_học_CS114/Data/Da...</td>\n",
              "      <td>7</td>\n",
              "    </tr>\n",
              "    <tr>\n",
              "      <th>1</th>\n",
              "      <td>/content/drive/MyDrive/Máy_học_CS114/Data/Da...</td>\n",
              "      <td>7</td>\n",
              "    </tr>\n",
              "    <tr>\n",
              "      <th>2</th>\n",
              "      <td>/content/drive/MyDrive/Máy_học_CS114/Data/Da...</td>\n",
              "      <td>0</td>\n",
              "    </tr>\n",
              "    <tr>\n",
              "      <th>3</th>\n",
              "      <td>/content/drive/MyDrive/Máy_học_CS114/Data/Da...</td>\n",
              "      <td>0</td>\n",
              "    </tr>\n",
              "    <tr>\n",
              "      <th>4</th>\n",
              "      <td>/content/drive/MyDrive/Máy_học_CS114/Data/Da...</td>\n",
              "      <td>0</td>\n",
              "    </tr>\n",
              "    <tr>\n",
              "      <th>...</th>\n",
              "      <td>...</td>\n",
              "      <td>...</td>\n",
              "    </tr>\n",
              "    <tr>\n",
              "      <th>1217</th>\n",
              "      <td>/content/drive/MyDrive/Máy_học_CS114/Data/Da...</td>\n",
              "      <td>11</td>\n",
              "    </tr>\n",
              "    <tr>\n",
              "      <th>1218</th>\n",
              "      <td>/content/drive/MyDrive/Máy_học_CS114/Data/Da...</td>\n",
              "      <td>2</td>\n",
              "    </tr>\n",
              "    <tr>\n",
              "      <th>1219</th>\n",
              "      <td>/content/drive/MyDrive/Máy_học_CS114/Data/Da...</td>\n",
              "      <td>7</td>\n",
              "    </tr>\n",
              "    <tr>\n",
              "      <th>1220</th>\n",
              "      <td>/content/drive/MyDrive/Máy_học_CS114/Data/Da...</td>\n",
              "      <td>11</td>\n",
              "    </tr>\n",
              "    <tr>\n",
              "      <th>1221</th>\n",
              "      <td>/content/drive/MyDrive/Máy_học_CS114/Data/Da...</td>\n",
              "      <td>11</td>\n",
              "    </tr>\n",
              "  </tbody>\n",
              "</table>\n",
              "<p>1222 rows × 2 columns</p>\n",
              "</div>\n",
              "      <button class=\"colab-df-convert\" onclick=\"convertToInteractive('df-e6e2f9f9-c335-4c65-8539-c174a00d2ef8')\"\n",
              "              title=\"Convert this dataframe to an interactive table.\"\n",
              "              style=\"display:none;\">\n",
              "        \n",
              "  <svg xmlns=\"http://www.w3.org/2000/svg\" height=\"24px\"viewBox=\"0 0 24 24\"\n",
              "       width=\"24px\">\n",
              "    <path d=\"M0 0h24v24H0V0z\" fill=\"none\"/>\n",
              "    <path d=\"M18.56 5.44l.94 2.06.94-2.06 2.06-.94-2.06-.94-.94-2.06-.94 2.06-2.06.94zm-11 1L8.5 8.5l.94-2.06 2.06-.94-2.06-.94L8.5 2.5l-.94 2.06-2.06.94zm10 10l.94 2.06.94-2.06 2.06-.94-2.06-.94-.94-2.06-.94 2.06-2.06.94z\"/><path d=\"M17.41 7.96l-1.37-1.37c-.4-.4-.92-.59-1.43-.59-.52 0-1.04.2-1.43.59L10.3 9.45l-7.72 7.72c-.78.78-.78 2.05 0 2.83L4 21.41c.39.39.9.59 1.41.59.51 0 1.02-.2 1.41-.59l7.78-7.78 2.81-2.81c.8-.78.8-2.07 0-2.86zM5.41 20L4 18.59l7.72-7.72 1.47 1.35L5.41 20z\"/>\n",
              "  </svg>\n",
              "      </button>\n",
              "      \n",
              "  <style>\n",
              "    .colab-df-container {\n",
              "      display:flex;\n",
              "      flex-wrap:wrap;\n",
              "      gap: 12px;\n",
              "    }\n",
              "\n",
              "    .colab-df-convert {\n",
              "      background-color: #E8F0FE;\n",
              "      border: none;\n",
              "      border-radius: 50%;\n",
              "      cursor: pointer;\n",
              "      display: none;\n",
              "      fill: #1967D2;\n",
              "      height: 32px;\n",
              "      padding: 0 0 0 0;\n",
              "      width: 32px;\n",
              "    }\n",
              "\n",
              "    .colab-df-convert:hover {\n",
              "      background-color: #E2EBFA;\n",
              "      box-shadow: 0px 1px 2px rgba(60, 64, 67, 0.3), 0px 1px 3px 1px rgba(60, 64, 67, 0.15);\n",
              "      fill: #174EA6;\n",
              "    }\n",
              "\n",
              "    [theme=dark] .colab-df-convert {\n",
              "      background-color: #3B4455;\n",
              "      fill: #D2E3FC;\n",
              "    }\n",
              "\n",
              "    [theme=dark] .colab-df-convert:hover {\n",
              "      background-color: #434B5C;\n",
              "      box-shadow: 0px 1px 3px 1px rgba(0, 0, 0, 0.15);\n",
              "      filter: drop-shadow(0px 1px 2px rgba(0, 0, 0, 0.3));\n",
              "      fill: #FFFFFF;\n",
              "    }\n",
              "  </style>\n",
              "\n",
              "      <script>\n",
              "        const buttonEl =\n",
              "          document.querySelector('#df-e6e2f9f9-c335-4c65-8539-c174a00d2ef8 button.colab-df-convert');\n",
              "        buttonEl.style.display =\n",
              "          google.colab.kernel.accessAllowed ? 'block' : 'none';\n",
              "\n",
              "        async function convertToInteractive(key) {\n",
              "          const element = document.querySelector('#df-e6e2f9f9-c335-4c65-8539-c174a00d2ef8');\n",
              "          const dataTable =\n",
              "            await google.colab.kernel.invokeFunction('convertToInteractive',\n",
              "                                                     [key], {});\n",
              "          if (!dataTable) return;\n",
              "\n",
              "          const docLinkHtml = 'Like what you see? Visit the ' +\n",
              "            '<a target=\"_blank\" href=https://colab.research.google.com/notebooks/data_table.ipynb>data table notebook</a>'\n",
              "            + ' to learn more about interactive tables.';\n",
              "          element.innerHTML = '';\n",
              "          dataTable['output_type'] = 'display_data';\n",
              "          await google.colab.output.renderOutput(dataTable, element);\n",
              "          const docLink = document.createElement('div');\n",
              "          docLink.innerHTML = docLinkHtml;\n",
              "          element.appendChild(docLink);\n",
              "        }\n",
              "      </script>\n",
              "    </div>\n",
              "  </div>\n",
              "  "
            ]
          },
          "metadata": {},
          "execution_count": 44
        }
      ]
    },
    {
      "cell_type": "code",
      "source": [
        "list_test = [f for f in test['Label']]\n",
        "list_pred = [f for f in predict['Label']]\n",
        "print(len(list_test))\n",
        "print(len(list_pred))"
      ],
      "metadata": {
        "colab": {
          "base_uri": "https://localhost:8080/"
        },
        "id": "5Vd-rB3h8KY1",
        "outputId": "dd5e3b69-4987-432f-b85c-4278bde1e629"
      },
      "execution_count": null,
      "outputs": [
        {
          "output_type": "stream",
          "name": "stdout",
          "text": [
            "1222\n",
            "1222\n"
          ]
        }
      ]
    },
    {
      "cell_type": "code",
      "source": [
        "acc_total = 0\n",
        "acc_class = [0,0,0,0,0,0,0,0,0,0,0,0]\n",
        "count = [0,0,0,0,0,0,0,0,0,0,0,0]\n",
        "names = ['CamDT',\n",
        " 'CanMongTay',\n",
        " 'ChamTayLenMat',\n",
        " 'ChongCam1Tay',\n",
        " 'ChongCam2Tay',\n",
        " 'NgoiGacChan',\n",
        " 'NgoiGu',\n",
        " 'NgoiThang',\n",
        " 'NguNguaRaSau',\n",
        " 'NguUpMat',\n",
        " 'VoDau',\n",
        " 'VuonVai']\n",
        "for t,p in zip(list_test, list_pred):\n",
        "  if t == p:\n",
        "    acc_total+=1\n",
        "  if t == 0:\n",
        "    if t == p:\n",
        "      acc_class[0]+=1\n",
        "    count[0]+=1\n",
        "  elif t == 1:\n",
        "    if t == p:\n",
        "      acc_class[1]+=1\n",
        "    count[1]+=1\n",
        "  if t == 2:\n",
        "    if t == p:\n",
        "      acc_class[2]+=1\n",
        "    count[2]+=1\n",
        "  if t == 3:\n",
        "    if t == p:\n",
        "      acc_class[3]+=1\n",
        "    count[3]+=1\n",
        "  if t == 4:\n",
        "    if t == p:\n",
        "      acc_class[4]+=1\n",
        "    count[4]+=1\n",
        "  if t == 5:\n",
        "    if t == p:\n",
        "      acc_class[5]+=1\n",
        "    count[5]+=1\n",
        "  if t == 6:\n",
        "    if t == p:\n",
        "      acc_class[6]+=1\n",
        "    count[6]+=1\n",
        "  if t == 7:\n",
        "    if t == p:\n",
        "      acc_class[7]+=1\n",
        "    count[7]+=1\n",
        "  if t == 8:\n",
        "    if t == p:\n",
        "      acc_class[8]+=1\n",
        "    count[8]+=1\n",
        "  if t == 9:\n",
        "    if t == p:\n",
        "      acc_class[9]+=1\n",
        "    count[9]+=1\n",
        "  if t == 10:\n",
        "    if t == p:\n",
        "      acc_class[10]+=1\n",
        "    count[10]+=1\n",
        "  if t == 11:\n",
        "    if t == p:\n",
        "      acc_class[11]+=1\n",
        "    count[11]+=1\n",
        "print(f'acc_total: {acc_total}/1222 = ' + \"{:.2f}\".format(acc_total/1222))\n",
        "\n",
        "for n, i, j in zip(names, acc_class,count):\n",
        "  print(f'{n}: {i}/{j} = '+ \"{:.2f}\".format(i/j))"
      ],
      "metadata": {
        "colab": {
          "base_uri": "https://localhost:8080/"
        },
        "id": "C5vB01kC8r0E",
        "outputId": "82823aa5-622f-48bc-ae2a-b28e87b82d47"
      },
      "execution_count": null,
      "outputs": [
        {
          "output_type": "stream",
          "name": "stdout",
          "text": [
            "acc_total: 489/1222 = 0.40\n",
            "CamDT: 75/97 = 0.77\n",
            "CanMongTay: 0/104 = 0.00\n",
            "ChamTayLenMat: 21/110 = 0.19\n",
            "ChongCam1Tay: 0/110 = 0.00\n",
            "ChongCam2Tay: 34/102 = 0.33\n",
            "NgoiGacChan: 69/101 = 0.68\n",
            "NgoiGu: 34/105 = 0.32\n",
            "NgoiThang: 52/98 = 0.53\n",
            "NguNguaRaSau: 57/101 = 0.56\n",
            "NguUpMat: 62/95 = 0.65\n",
            "VoDau: 26/96 = 0.27\n",
            "VuonVai: 59/103 = 0.57\n"
          ]
        }
      ]
    },
    {
      "cell_type": "code",
      "source": [
        "f = open(\"/content/drive/MyDrive/Máy_học_CS114/[Final]/my_model.h5\",mode = 'r+b')\n",
        "c = f.read()\n",
        "print(c)\n"
      ],
      "metadata": {
        "id": "RD1cMtOLEFlw"
      },
      "execution_count": null,
      "outputs": []
    }
  ]
}